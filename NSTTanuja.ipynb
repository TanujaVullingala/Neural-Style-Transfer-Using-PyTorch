{
  "nbformat": 4,
  "nbformat_minor": 0,
  "metadata": {
    "colab": {
      "provenance": [],
      "gpuType": "T4"
    },
    "kernelspec": {
      "name": "python3",
      "display_name": "Python 3"
    },
    "language_info": {
      "name": "python"
    },
    "accelerator": "GPU"
  },
  "cells": [
    {
      "cell_type": "code",
      "source": [
        "import torch\n",
        "import torch.nn as nn\n",
        "import torch.optim as optim\n",
        "from torchvision import models, transforms\n",
        "from PIL import Image\n",
        "from torchvision.utils import save_image\n",
        "import matplotlib.pyplot as plt\n",
        "from tqdm import tqdm\n"
      ],
      "metadata": {
        "id": "ZTq_zQL8jSkL"
      },
      "execution_count": 1,
      "outputs": []
    },
    {
      "cell_type": "code",
      "source": [
        "class ContentLoss(nn.Module):\n",
        "    def __init__(self, target):\n",
        "        super(ContentLoss, self).__init__()\n",
        "        self.target = target.detach()\n",
        "\n",
        "    def forward(self, input):\n",
        "        self.loss = nn.functional.mse_loss(input, self.target)\n",
        "        return input\n",
        "\n",
        "class StyleLoss(nn.Module):\n",
        "    def __init__(self, target_feature):\n",
        "        super(StyleLoss, self).__init__()\n",
        "        self.target = self.gram_matrix(target_feature).detach()\n",
        "\n",
        "    def forward(self, input):\n",
        "        G = self.gram_matrix(input)\n",
        "        self.loss = nn.functional.mse_loss(G, self.target)\n",
        "        return input\n",
        "\n",
        "    def gram_matrix(self, input):\n",
        "        batch_size, channels, height, width = input.size()\n",
        "        features = input.view(batch_size * channels, height * width)\n",
        "        G = torch.mm(features, features.t())\n",
        "        return G.div(batch_size * channels * height * width)\n",
        "\n"
      ],
      "metadata": {
        "id": "q-wuDv_njVw_"
      },
      "execution_count": 4,
      "outputs": []
    },
    {
      "cell_type": "code",
      "source": [
        "def load_img(path, imsize):\n",
        "    img = Image.open(path).convert('RGB')\n",
        "    loader = transforms.Compose([\n",
        "        transforms.Resize(imsize),\n",
        "        transforms.CenterCrop(imsize),  # Center crop to ensure exact size\n",
        "        transforms.ToTensor(),\n",
        "        transforms.Normalize(mean=[0.485, 0.456, 0.406], std=[0.229, 0.224, 0.225])\n",
        "    ])\n",
        "    img = loader(img).unsqueeze(0)\n",
        "    return img.to(device, torch.float)\n",
        "\n",
        "# Device and image size setup\n",
        "device = torch.device('cuda' if torch.cuda.is_available() else 'cpu')\n",
        "img_size = 512 if torch.cuda.is_available() else 128\n",
        "\n",
        "# Load and preprocess images\n",
        "content_img = load_img('/content/lionn.jpg', img_size)\n",
        "style_img = load_img('/content/firee.jpg', img_size)\n",
        "target_img = content_img.clone().requires_grad_(True)\n",
        "\n"
      ],
      "metadata": {
        "id": "fgir7evojbm7"
      },
      "execution_count": 5,
      "outputs": []
    },
    {
      "cell_type": "code",
      "source": [
        "# VGG19 model and normalization\n",
        "cnn = models.vgg19(pretrained=True).features.to(device).eval()\n",
        "normalization_mean = torch.tensor([0.485, 0.456, 0.406]).to(device)\n",
        "normalization_std = torch.tensor([0.229, 0.224, 0.225]).to(device)\n",
        "\n",
        "class Normalization(nn.Module):\n",
        "    def __init__(self, mean, std):\n",
        "        super(Normalization, self).__init__()\n",
        "        self.mean = mean.clone().detach().view(-1, 1, 1)\n",
        "        self.std = std.clone().detach().view(-1, 1, 1)\n",
        "\n",
        "    def forward(self, img):\n",
        "        return (img - self.mean) / self.std\n",
        "\n",
        "# Build model with content and style losses\n",
        "model = nn.Sequential(Normalization(normalization_mean, normalization_std).to(device))\n",
        "content_losses = []\n",
        "style_losses = []\n",
        "i = 0\n",
        "\n",
        "for layer in cnn.children():\n",
        "    if isinstance(layer, nn.Conv2d):\n",
        "        i += 1\n",
        "        name = 'conv_{}'.format(i)\n",
        "    elif isinstance(layer, nn.ReLU):\n",
        "        name = 'relu_{}'.format(i)\n",
        "        layer = nn.ReLU(inplace=False)\n",
        "    elif isinstance(layer, nn.MaxPool2d):\n",
        "        name = 'pool_{}'.format(i)\n",
        "    elif isinstance(layer, nn.BatchNorm2d):\n",
        "        name = 'bn_{}'.format(i)\n",
        "    else:\n",
        "        raise RuntimeError('Unrecognized layer: {}'.format(layer.__class__.__name__))\n",
        "\n",
        "    model.add_module(name, layer)\n",
        "\n",
        "    if name in ['conv_4']:  # Content layers\n",
        "        target = model(content_img).detach()\n",
        "        content_loss = ContentLoss(target)\n",
        "        model.add_module(\"content_loss_{}\".format(i), content_loss)\n",
        "        content_losses.append(content_loss)\n",
        "\n",
        "    if name in ['conv_1', 'conv_2', 'conv_3', 'conv_4', 'conv_5']:  # Style layers\n",
        "        target_feature = model(style_img).detach()\n",
        "        style_loss = StyleLoss(target_feature)\n",
        "        model.add_module(\"style_loss_{}\".format(i), style_loss)\n",
        "        style_losses.append(style_loss)\n",
        "\n",
        "# Remove layers after the last content and style loss\n",
        "for i in range(len(model) - 1, -1, -1):\n",
        "    if isinstance(model[i], ContentLoss) or isinstance(model[i], StyleLoss):\n",
        "        break\n",
        "\n",
        "model = model[:i+1]\n",
        "\n",
        "# Optimizer\n",
        "optimizer = optim.Adam([target_img], lr=0.001)\n",
        "\n",
        "# Training parameters\n",
        "epochs = 2\n",
        "alpha = 1  # Content weight\n",
        "beta = 10000  # Style weight\n",
        "\n"
      ],
      "metadata": {
        "id": "ytAu4wuLjlOm"
      },
      "execution_count": 6,
      "outputs": []
    },
    {
      "cell_type": "code",
      "source": [
        "for epoch in range(epochs):\n",
        "    print(f\"Epoch {epoch + 1}/{epochs}\")\n",
        "    print('-' * 10)\n",
        "\n",
        "    for step in tqdm(range(100)):\n",
        "        target_feature = model(target_img)\n",
        "        content_feature = model(content_img)\n",
        "        style_feature = model(style_img)\n",
        "\n",
        "        style_loss = 0\n",
        "        content_loss = 0\n",
        "\n",
        "        for sl, target, content, style in zip(style_losses, target_feature, content_feature, style_feature): # iterate over the StyleLoss modules\n",
        "            content_loss += nn.functional.mse_loss(target, content)\n",
        "            style_loss += sl.loss # use the precomputed loss from the forward pass\n",
        "\n",
        "        # for target, content, style in zip(target_feature, content_feature, style_feature):\n",
        "        #     content_loss += nn.functional.mse_loss(target, content)\n",
        "        #     style_loss += nn.functional.mse_loss(StyleLoss.gram_matrix(None, target), StyleLoss.gram_matrix(None, style)) # this line caused the error\n",
        "\n",
        "        total_loss = alpha * content_loss + beta * style_loss\n",
        "\n",
        "        optimizer.zero_grad()\n",
        "        total_loss.backward()\n",
        "        optimizer.step()\n",
        "\n",
        "\n",
        "\n",
        "    # Save intermediate result after each epoch\n",
        "    save_image(target_img, f'result_epoch_{epoch + 1}.png')\n",
        "\n",
        "# Save final result\n",
        "save_image(target_img, 'final_result.png')\n"
      ],
      "metadata": {
        "colab": {
          "base_uri": "https://localhost:8080/"
        },
        "id": "5sZPYPZ4kKO6",
        "outputId": "24605451-1cab-4698-e63b-28bfb9e8f016"
      },
      "execution_count": 8,
      "outputs": [
        {
          "output_type": "stream",
          "name": "stdout",
          "text": [
            "Epoch 1/1\n",
            "----------\n"
          ]
        },
        {
          "output_type": "stream",
          "name": "stderr",
          "text": [
            "100%|██████████| 100/100 [01:06<00:00,  1.50it/s]\n"
          ]
        }
      ]
    },
    {
      "cell_type": "code",
      "source": [],
      "metadata": {
        "id": "KAXwjMK4jrGy"
      },
      "execution_count": null,
      "outputs": []
    }
  ]
}